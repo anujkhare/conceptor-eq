{
 "metadata": {
  "name": "",
  "signature": "sha256:2f7bb71875aca05408fede6902807162cf874002d1d64a812181a05b98014c36"
 },
 "nbformat": 3,
 "nbformat_minor": 0,
 "worksheets": []
}