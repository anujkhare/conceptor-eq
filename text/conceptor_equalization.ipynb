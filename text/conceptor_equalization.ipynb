{
 "metadata": {
  "name": "",
  "signature": "sha256:44188d5c51edeb1ebc7aad826f93acf36ae6692cf2c57f1e05a8cb032a0d11e3"
 },
 "nbformat": 3,
 "nbformat_minor": 0,
 "worksheets": [
  {
   "cells": [
    {
     "cell_type": "markdown",
     "metadata": {},
     "source": [
      "%load_ext vimception"
     ]
    },
    {
     "cell_type": "code",
     "collapsed": false,
     "input": [
      "%reset"
     ],
     "language": "python",
     "metadata": {},
     "outputs": [
      {
       "name": "stdout",
       "output_type": "stream",
       "stream": "stdout",
       "text": [
        "Once deleted, variables cannot be recovered. Proceed (y/[n])? y\n"
       ]
      }
     ],
     "prompt_number": 298
    },
    {
     "cell_type": "code",
     "collapsed": false,
     "input": [
      "%load_ext autoreload\n",
      "%autoreload 2"
     ],
     "language": "python",
     "metadata": {},
     "outputs": [
      {
       "output_type": "stream",
       "stream": "stdout",
       "text": [
        "The autoreload extension is already loaded. To reload it, use:\n",
        "  %reload_ext autoreload\n"
       ]
      }
     ],
     "prompt_number": 299
    },
    {
     "cell_type": "code",
     "collapsed": false,
     "input": [
      "import numpy as np\n",
      "from numpy.random import *\n",
      "import cairo\n",
      "from scipy import misc\n",
      "#%pylab inline\n",
      "from skimage import transform as tf\n",
      "from IPython.html.widgets import interact\n",
      "from skimage import io\n",
      "from skimage import color"
     ],
     "language": "python",
     "metadata": {},
     "outputs": [],
     "prompt_number": 300
    },
    {
     "cell_type": "code",
     "collapsed": false,
     "input": [
      "%pylab inline"
     ],
     "language": "python",
     "metadata": {},
     "outputs": [
      {
       "output_type": "stream",
       "stream": "stdout",
       "text": [
        "Populating the interactive namespace from numpy and matplotlib\n"
       ]
      },
      {
       "output_type": "stream",
       "stream": "stderr",
       "text": [
        "WARNING: pylab import has clobbered these variables: ['random', 'power', 'bytes']\n",
        "`%matplotlib` prevents importing * from pylab and numpy\n"
       ]
      }
     ],
     "prompt_number": 301
    },
    {
     "cell_type": "code",
     "collapsed": false,
     "input": [
      "seed(100)   # RANDOM no. control"
     ],
     "language": "python",
     "metadata": {},
     "outputs": [],
     "prompt_number": 173
    },
    {
     "cell_type": "code",
     "collapsed": true,
     "input": [
      "from generate_text_cairo import TextDescription as TD, get_matrix, font_list"
     ],
     "language": "python",
     "metadata": {},
     "outputs": [],
     "prompt_number": 302
    },
    {
     "cell_type": "code",
     "collapsed": false,
     "input": [
      "class ExpParam:\n",
      "    def __init__(self,\n",
      "                 NNets = 5,\n",
      "                 InSize = 12,\n",
      "                 washoutLength = 100, learnLength = 1000,\n",
      "                 COinitLength = 1000, COadaptLength = 2000,\n",
      "                 testLength = 1000,\n",
      "                 LRR = 0.005, # leaking rate for R estimation\n",
      "                 # set aperture1 = Inf if no conceptors are to be inserted:\n",
      "                 apertures = np.Inf,\n",
      "                 #showNets [1 2 NNets], # which nets are to be diagnostic-plotted\n",
      "                 mismatchExp = 0.5,\n",
      "                 signalPlotLength = 40, plotN = 8, maxLag = 49):\n",
      "        # Experiment control params\n",
      "        self.NNets = NNets\n",
      "        self.InSize = InSize\n",
      "        self.TychWouts = 0.05, # regularizers for Wout\n",
      "        self.COinitLength = COinitLength\n",
      "        self.COadaptLength = COadaptLength\n",
      "        self.testLength = testLength\n",
      "        self.LRR = LRR\n",
      "        self.apertures = apertures\n",
      "        self.mismatchExp = mismatchExp # a value of 1/2 would be mathematically indicated\n",
      "                                  # larger, over-compensating values work better\n",
      "\n",
      "        self.washoutLength = washoutLength\n",
      "        self.learnLength = learnLength\n",
      "        \n",
      "        # plotting specs\n",
      "        self.signalPlotLength = signalPlotLength\n",
      "        self.plotN = plotN\n",
      "        self.maxLag = maxLag\n"
     ],
     "language": "python",
     "metadata": {},
     "outputs": [],
     "prompt_number": 303
    },
    {
     "cell_type": "code",
     "collapsed": false,
     "input": [
      "def generate_data(dataType = 1, p = ExpParam()):\n",
      "    # filter function.\n",
      "    # 1: NARMA data with NARMA coefficient filtering\n",
      "    # 2: rand data with shift, scale, exponentiation\n",
      "    if dataType == 1:\n",
      "        Filter = lambda y, ym1, ym2, a, b, c, d: np.tanh( a * y + b *\\\n",
      "                                    (ym1) + c * (ym2) * (ym1) + d *(randn(1)))\n",
      "        filterWashout = 100;\n",
      "        \n",
      "        baselineParams = [2, -1, -2, 0];\n",
      "        pattScaling = 1; pattShift = 1;\n",
      "        \n",
      "    elif dataType == 2:\n",
      "        Filter = lambda y, a, b, c: a + b * (sign(y) * abs(y) ** c);\n",
      "        filterWashout = 100;\n",
      "        baselineParams = [-2, .5, 1];\n",
      "\n",
      "    L = p.washoutLength + p.COinitLength + p.COadaptLength + p.learnLength;\n",
      "    trainPatt = []; testPatt = []; testPattProto = [];\n",
      "\n",
      "    if dataType == 1:\n",
      "        trainPatt = 0.5*(2 * pi * sin(range(L)) / 8  + 2 * pi * sin(range(L)) / 5.03);\n",
      "        a = baselineParams[0];\n",
      "        b = baselineParams[1];\n",
      "        c = baselineParams[2];\n",
      "        d = baselineParams[3];\n",
      "        testPatt = trainPatt.copy();\n",
      "        for n in xrange(2, L):\n",
      "            testPatt[n] = Filter(testPatt[n],testPatt[n-1],testPatt[n-2],\n",
      "                                  a, b, c, d);\n",
      "        \n",
      "        testPatt = pattScaling * testPatt + pattShift\n",
      "    \n",
      "        trainPatt = np.reshape(trainPatt, (1, L))\n",
      "        testPatt = np.reshape(testPatt, (1, L))\n",
      "        testPattProto = trainPatt;    \n",
      "        \n",
      "    elif dataType == 2:\n",
      "        trainPatt = rand(1, L);\n",
      "        a = baselineParams[0];\n",
      "        b = baselineParams[1];\n",
      "        c = baselineParams[2];\n",
      "        testPattProto = trainPatt;\n",
      "\n",
      "        testPatt = trainPatt.copy();\n",
      "        for n in xrange(L):\n",
      "            testPatt[n] = Filter(trainPatt[n], a, b, c);\n",
      "            \n",
      "    return trainPatt, testPatt, testPattProto"
     ],
     "language": "python",
     "metadata": {},
     "outputs": [],
     "prompt_number": 347
    },
    {
     "cell_type": "code",
     "collapsed": false,
     "input": [
      "class Reservoir:\n",
      "    def __init__(self,\n",
      "                 InSize = 12,\n",
      "                 N = 50,  # network size\n",
      "                 M = 200,  # RF space size\n",
      "                 Nfb = 2, # number of feedbacks\n",
      "                 SR = 1 ,  # spectral radius\n",
      "                 WinScaling = .4 ,\n",
      "                 WfbScaling = 0. ,\n",
      "                 BiasScaling = 0.):\n",
      "\n",
      "        self.InSize = InSize\n",
      "        \n",
      "        # System params \n",
      "        #showNets = showNets\n",
      "        self.N = N\n",
      "        self.M = M\n",
      "        self.Nfb = Nfb\n",
      "        self.SR = SR\n",
      "        self.WinScaling = WinScaling\n",
      "        self.WfbScaling = WfbScaling\n",
      "        self.BiasScaling = BiasScaling\n",
      "\n",
      "    def initialize_system(self):\n",
      "        seed(100) #Random no. control\n",
      "        # Create raw weights\n",
      "        WinRaw = randn(self.N, self.InSize);\n",
      "        #WfbRaw = randn(self.N, self.Nfb);\n",
      "        biasRaw = randn(self.N, 1);\n",
      "        FRaw = randn(self.M,self.N);\n",
      "        FRawRowNorms = np.sqrt(np.sum(FRaw ** 2, 1));\n",
      "        FRaw = np.dot(np.diag(1 / FRawRowNorms), FRaw)\n",
      "        GstarRaw = randn(self.N,self.M);\n",
      "        GF = np.dot(GstarRaw, FRaw);\n",
      "        specrad = max(np.abs(np.linalg.eig(GF)[0]));\n",
      "        FstarRaw = FRaw;\n",
      "        GstarRaw = GstarRaw / specrad;\n",
      "\n",
      "        # Scale raw weights and initialize weights\n",
      "        self.F    = FstarRaw;\n",
      "        self.G    = GstarRaw * self.SR;\n",
      "        self.Win  = self.WinScaling * WinRaw;\n",
      "#         self.Wfb  = self.WfbScaling * WfbRaw;\n",
      "        self.bias = self.BiasScaling * biasRaw;\n",
      "\n",
      "        self.r = np.zeros((self.N, 1), dtype=float)\n",
      "        self.z = np.zeros((self.M, 1), dtype=float)\n",
      "#         self.y = np.zeros((self.InSize, 1), dtype=float)\n",
      "        \n",
      "    def update_state(self, in_patt, conceptor=None):\n",
      "        if in_patt.shape[0] != self.InSize:\n",
      "#             print self.InSize, in_patt.shape[0]\n",
      "            raise ValueError(\"Input size is incorrect\")\n",
      "        \n",
      "        #print self.G.shape, self.Win.shape, self.bias.shape, self.F.shape\n",
      "#         print np.dot(self.G, self.z).shape, np.dot(self.Win, in_patt).shape, self.bias.shape\n",
      "        self.r = np.tanh(np.dot(self.G, self.z) + np.reshape(np.dot(self.Win, in_patt), (self.N, 1)) + self.bias)\n",
      "        self.z = np.dot(self.F, self.r)\n",
      "        if conceptor is not None:\n",
      "            self.z = np.reshape(conceptor,(self.M, 1)) * self.z"
     ],
     "language": "python",
     "metadata": {},
     "outputs": [],
     "prompt_number": 304
    },
    {
     "cell_type": "code",
     "collapsed": false,
     "input": [
      "def train_eq(res = Reservoir(), exp = ExpParam(), trainPatt=get_matrix(TD(\"aa\", italic=False, reps=500))):\n",
      "    \n",
      "    res.InSize = exp.InSize = trainPatt.shape[0]\n",
      "    ####################################################################################################\n",
      "    # 2-module modeling - Compute Conceptor\n",
      "    print \"Learning Conceptor...\"\n",
      "    \n",
      "    zCollector = np.zeros((res.M, exp.learnLength))\n",
      "    res.initialize_system()\n",
      "    \n",
      "    for n in xrange(exp.washoutLength + exp.learnLength):\n",
      "        #print n, res.z.shape, trainPatt[:, n].shape\n",
      "        res.update_state(trainPatt[:, n]) \n",
      "    \n",
      "        if n >= exp.washoutLength:\n",
      "            zCollector[:, n - exp.washoutLength] = res.z[:,0];\n",
      "    \n",
      "    R = np.diag(np.dot(zCollector, np.transpose(zCollector))) / exp.learnLength;\n",
      "    \n",
      "    if exp.apertures == np.Inf:\n",
      "        C = np.ones(R.shape, dtype=float)\n",
      "    else:\n",
      "        C = R / (R + exp.apertures**(-2));\n",
      "    #print R # MATCH WITH MATLAB\n",
      "    \n",
      "    ####################################################################################################\n",
      "    ## Learn Rref,  Wout, and collect r state plot data\n",
      "    print \"Learning Rref, Wout...\"\n",
      "    \n",
      "    zCollector = np.zeros((res.M, exp.learnLength))\n",
      "    pCollector = np.zeros((res.InSize, exp.learnLength))\n",
      "    predCollector = np.zeros((res.InSize, exp.learnLength))\n",
      "    \n",
      "    # Here we are doing the same thing, but restricting the dynamics using learnt conceptor\n",
      "    for n in xrange(exp.washoutLength + exp.learnLength):\n",
      "        res.update_state(trainPatt[:, n], conceptor=C)\n",
      "        \n",
      "        if n >= exp.washoutLength:\n",
      "            zCollector[:, n - exp.washoutLength] = res.z[:,0]\n",
      "            pCollector[:, n - exp.washoutLength] = trainPatt[:, n]\n",
      "            predCollector[:, n - exp.washoutLength] = trainPatt[:, n+1]\n",
      "\n",
      "\n",
      "    # Reference R - represents E[z^2] for the ideal case\n",
      "    Rref = np.diag(np.dot(zCollector, np.transpose(zCollector))) / exp.learnLength;\n",
      "    args = zCollector\n",
      "    targs = pCollector\n",
      "    WoutAll = np.transpose(np.dot(np.linalg.pinv(np.dot(args, np.transpose(args)) / exp.learnLength + \\\n",
      "                                                 exp.TychWouts[0] * np.eye(res.M)\n",
      "                                                 ),\n",
      "                                  np.dot(args, np.transpose(targs)) / exp.learnLength\n",
      "                                  )\n",
      "                           )\n",
      "#     Wout = WoutAll(end,:);\n",
      "#     ytrainNRMSE = nrmse(Wout * args, targs(end,:));\n",
      "    return Rref, C, WoutAll#, ytrainNRMSE"
     ],
     "language": "python",
     "metadata": {},
     "outputs": [],
     "prompt_number": 305
    },
    {
     "cell_type": "code",
     "collapsed": false,
     "input": [
      "Rref, C, WoutAll = train_eq()\n",
      "print Rref.shape, C.shape, WoutAll.shape"
     ],
     "language": "python",
     "metadata": {},
     "outputs": [
      {
       "output_type": "stream",
       "stream": "stdout",
       "text": [
        "Learning Conceptor...\n",
        "Learning Rref, Wout...\n",
        "(200,)"
       ]
      },
      {
       "output_type": "stream",
       "stream": "stdout",
       "text": [
        " (200,) (12, 200)\n"
       ]
      }
     ],
     "prompt_number": 306
    },
    {
     "cell_type": "code",
     "collapsed": true,
     "input": [
      "# Testing\n",
      "def test_eq(Rref, C, WoutAll = np.ones((12, 200)),\n",
      "            testPattProto=get_matrix(TD(\"aa\", italic=False, reps=500, size_y = 12)),\n",
      "            testPatt=get_matrix(TD(\"aa\", italic=True, reps=500, size_y = 12)),\n",
      "            param = ExpParam()):\n",
      "    \n",
      "    param.InSize = testPatt.shape[0]\n",
      "    if param.InSize != WoutAll.shape[0]:\n",
      "        raise TypeError(\"Shape mismatch - WoutAll: \" + str(WoutAll.shape[0]) + \" , InSize: \" + str(param.InSize))\n",
      "    ####################################################################################################\n",
      "    print \"Washout...\"\n",
      "    \n",
      "    res = []  # List of all reservoirs in the cascade\n",
      "    for i in xrange(param.NNets):\n",
      "        res.append(Reservoir(InSize=param.InSize))\n",
      "        res[i].initialize_system()\n",
      "    yCollectortest = np.zeros((param.NNets, param.InSize, param.testLength))   # Test Output from each net\n",
      "    pCollectortest = np.zeros((param.InSize, param.testLength));\n",
      "    uCollectortest = np.zeros((param.InSize, param.testLength));\n",
      "\n",
      "    yAll = np.zeros((param.NNets, res[0].InSize,1))\n",
      "        \n",
      "    for n in xrange(param.washoutLength):             # just the WASHOUT period\n",
      "        res[0].update_state(testPatt[:, n], C)\n",
      "        yAll[0] = np.dot(WoutAll, res[0].z)\n",
      "\n",
      "        for nNet in xrange(1, param.NNets):                              # For subsequent cascades\n",
      "            res[nNet].update_state(yAll[nNet-1], C)\n",
      "            yAll[nNet] = np.dot(WoutAll, res[nNet].z)\n",
      "\n",
      "    Rref = np.reshape(Rref, (res[0].M, 1))  \n",
      "    ####################################################################################################\n",
      "    # Initialize the average (expected) signal energy vector E[z.^2], called\n",
      "    # Ezsqr, for all nets in the cascade,\n",
      "    # by driving the cascade for COinitLength steps with input signal\n",
      "    print \"Initialize Ezsqr...\"\n",
      "    \n",
      "    shift = param.washoutLength\n",
      "    MismatchRatios = []; zColl = []; Ezsqr = [];\n",
      "    for nNet in xrange(param.NNets):\n",
      "        zColl.append(np.zeros((res[nNet].M, param.COinitLength)))\n",
      "        Ezsqr.append(np.zeros((res[nNet].M, 1)))\n",
      "        MismatchRatios.append(np.zeros((res[i].M, 1)))            # Test MR for each net\n",
      "    for n in xrange(param.COinitLength):\n",
      "        res[0].update_state(testPatt[:, n+shift], C)\n",
      "        yAll[0] = np.dot(WoutAll, res[0].z)\n",
      "        zColl[0][:, n] = res[0].z[:, 0];\n",
      "\n",
      "        for nNet in xrange(1, param.NNets):                       # For subsequent cascades\n",
      "            res[nNet].update_state(yAll[nNet-1], C)\n",
      "            yAll[nNet] = np.dot(WoutAll, res[nNet].z)\n",
      "            zColl[nNet][:, n] = res[0].z[:, 0];\n",
      "\n",
      "            \n",
      "#     for nNet in xrange(param.NNets):\n",
      "#         Ezsqr{nNet} = diag(zColl{nNet} * zColl{nNet}') / param.COinitLength;\n",
      "#         # the mismatch ratios will function as the \"ERROR\" term that is used to pull\n",
      "#         # the actual signal energies of the z vectors toward the reference z\n",
      "#         # vectors known from the \"clean\" training input\n",
      "#         MismatchRatios{nNet} = (Rref / Ezsqr{nNet}).^mismatchExp;\n",
      "\n",
      "    ####################################################################################################\n",
      "    ## Adapt forward through nets for COadaptLength\n",
      "    print \"Adapting MismatchRatio...\"\n",
      "    \n",
      "    shift = param.washoutLength + param.COinitLength;\n",
      "    y_co_adapt = np.zeros((1, param.COadaptLength))\n",
      "    \n",
      "    for n in xrange(param.COadaptLength):\n",
      "        res[0].update_state(testPatt[:, n+shift], C)\n",
      "        # in the next two lines, the core adaptation is done, by re-shaping the\n",
      "        # z vector with the help of the mismatch ratios which pull it toward\n",
      "        # the reference z signal energy profile known from training\n",
      "\n",
      "        yAll[0] = np.dot(WoutAll, MismatchRatios[0] * res[0].z)\n",
      "#         zColl[0][:, n] = res[0].z[:, 0];\n",
      "\n",
      "        for nNet in xrange(1, param.NNets):                              # For subsequent cascades\n",
      "            res[nNet].update_state(yAll[nNet-1], C)\n",
      "            yAll[nNet] = np.dot(WoutAll, MismatchRatios[nNet] * res[nNet].z)\n",
      "#             zColl[nNet][:, n] = res[0].z[:, 0];\n",
      "\n",
      "        # the following updates the estimate of Ezsqr and the mismatch ratio\n",
      "        for nNet in xrange(param.NNets):\n",
      "            Ezsqr[nNet] = (1-param.LRR) * Ezsqr[nNet] + param.LRR * res[nNet].z ** 2;\n",
      "            MismatchRatios[nNet] = (Rref / Ezsqr[nNet]) ** param.mismatchExp;\n",
      "\n",
      "#         y_co_adapt(1, n) = yAll{3}(end, 1);\n",
      "    \n",
      "#     figNr = figNr + 1;\n",
      "#     figure(figNr); clf;\n",
      "#     hold on;\n",
      "#     plot(y_co_adapt(end - 50: end), 'b', 'LineWidth', 1.5);\n",
      "#     plot(trainPatt(shift + param.COadaptLength - 50 : shift+COadaptLength), 'r', 'LineWidth', 1.5);\n",
      "#     title('y during COadapt vs trainPatt (red)');\n",
      "#     hold off;\n",
      "    \n",
      "    ####################################################################################################  \n",
      "    ## Finally, stop adapting, stay in the last adapted configuaration\n",
      "    # and collect data for plotting and error diagnostics\n",
      "    print \"Testing...\"\n",
      "    \n",
      "    shift = param.washoutLength + param.COinitLength + param.COadaptLength;\n",
      "    \n",
      "    for n in xrange(param.testLength):\n",
      "        u = testPatt[:, n+shift]\n",
      "        res[0].update_state(u, C)\n",
      "        yAll[0] = np.dot(WoutAll, MismatchRatios[0] * res[0].z)\n",
      "        yCollectortest[0][:, n] = yAll[0][:, 0]\n",
      "\n",
      "        for nNet in xrange(1, param.NNets):                              # For subsequent cascades\n",
      "            res[nNet].update_state(yAll[nNet-1], C)\n",
      "            yAll[nNet] = np.dot(WoutAll, MismatchRatios[nNet] * res[nNet].z)\n",
      "            yCollectortest[nNet][:, n] = yAll[nNet][:, 0]\n",
      "\n",
      "        pCollectortest[:,n] = testPattProto[1, n + shift]\n",
      "        uCollectortest[:,n] = u\n",
      "          \n",
      "            \n",
      "    ####################################################################################################  \n",
      "    # Calculate errors\n",
      "    print \"Calculating Errors...\"\n",
      "    \n",
      "    for nNet in xrange(param.NNets):\n",
      "        ytestNRMSE[nNet] = nrmse(yCollectortest[nNet], pCollectortest);\n",
      "        EngyRatios[nNet] = Rref / Ezsqr[nNet];\n",
      "\n",
      "    rawNRMSE = nrmse(testPattProto, testPatt);  ## why? what??\n",
      "\n",
      "    autoCorrP = autocorr(pCollectortest, maxLag);\n",
      "    for nNet in xrange(param.NNets):\n",
      "        autoCorry[nNet] = autocorr(yCollectortest[nNet], maxLag);\n",
      "\n",
      "    energyErrs = np.zeros((1, param.NNets));\n",
      "    for nNet in xrange(param.NNets):\n",
      "        energyErrs[1, nNet] = norm((Rref - Ezsqr[nNet]) / norm(Rref)) ** 2;"
     ],
     "language": "python",
     "metadata": {},
     "outputs": [],
     "prompt_number": 312
    },
    {
     "cell_type": "code",
     "collapsed": false,
     "input": [
      "Rref, C = train_eq()\n",
      "test_eq(Rref, C)"
     ],
     "language": "python",
     "metadata": {},
     "outputs": [
      {
       "output_type": "stream",
       "stream": "stdout",
       "text": [
        "Learning Conceptor...\n",
        "Learning Rref, Wout...\n",
        "Washout..."
       ]
      },
      {
       "output_type": "stream",
       "stream": "stdout",
       "text": [
        "\n",
        "Initialize Ezsqr...\n",
        "Adapting MismatchRatio..."
       ]
      },
      {
       "output_type": "stream",
       "stream": "stdout",
       "text": [
        "\n",
        "Testing..."
       ]
      },
      {
       "output_type": "stream",
       "stream": "stdout",
       "text": [
        "\n"
       ]
      }
     ],
     "prompt_number": 44
    }
   ],
   "metadata": {}
  }
 ]
}