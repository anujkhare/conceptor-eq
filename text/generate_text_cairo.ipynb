{
 "metadata": {
  "name": "",
  "signature": "sha256:be22de3586f9ed850ab2d1a8616a68c00bab73b9550128cdfadc48bd1e8beca8"
 },
 "nbformat": 3,
 "nbformat_minor": 0,
 "worksheets": [
  {
   "cells": [
    {
     "cell_type": "markdown",
     "metadata": {},
     "source": [
      "###TODO\n",
      "- Figure out a way around the temp surface\n",
      "- figure out a way to get matrix directly from surface! \n",
      "\n",
      "The font sizes vary according to the font style/properties, so as to occupy as much spce as possible for a given y-size of the surface."
     ]
    },
    {
     "cell_type": "markdown",
     "metadata": {},
     "source": [
      "%load_ext vimception"
     ]
    },
    {
     "cell_type": "markdown",
     "metadata": {},
     "source": [
      "%load_ext autoreload\n",
      "%autoreload 2"
     ]
    },
    {
     "cell_type": "markdown",
     "metadata": {},
     "source": [
      "%load_ext runtools"
     ]
    },
    {
     "cell_type": "code",
     "collapsed": false,
     "input": [
      "import IPython\n",
      "ip=IPython.get_ipython()\n",
      "ip.config.ProfileDir "
     ],
     "language": "python",
     "metadata": {},
     "outputs": [
      {
       "metadata": {},
       "output_type": "pyout",
       "prompt_number": 11,
       "text": [
        "{'location': u'/home/kcm/.ipython/profile_default'}"
       ]
      }
     ],
     "prompt_number": 11
    },
    {
     "cell_type": "code",
     "collapsed": false,
     "input": [
      "import cairo\n",
      "from scipy import misc\n",
      "#%pylab inline\n",
      "from skimage import transform as tf\n",
      "from IPython.html.widgets import interact\n",
      "from skimage import io\n",
      "from math import *\n",
      "import matplotlib.pyplot as py"
     ],
     "language": "python",
     "metadata": {},
     "outputs": [],
     "prompt_number": 1
    },
    {
     "cell_type": "markdown",
     "metadata": {},
     "source": [
      "%pylab inline"
     ]
    },
    {
     "cell_type": "code",
     "collapsed": false,
     "input": [
      "# Get the font names in the system\n",
      "# File generated using pangocairo\n",
      "f = open('fonts', 'r')\n",
      "font_list =[]\n",
      "for line in f:\n",
      "    txt = line.strip()\n",
      "    font_list = font_list + [txt]\n",
      "len(font_list)"
     ],
     "language": "python",
     "metadata": {},
     "outputs": [
      {
       "metadata": {},
       "output_type": "pyout",
       "prompt_number": 17,
       "text": [
        "153"
       ]
      }
     ],
     "prompt_number": 17
    },
    {
     "cell_type": "code",
     "collapsed": false,
     "input": [
      "# size_x is not used unless explicitly defined in the parameters, and the surface just fits in the x direction.\n",
      "class TextDescription:\n",
      "    def __init__(self, text = 'A', size_x = None, size_y = 12, x_pad = 4, y_pad =4,\n",
      "                 reps = 1, font_family = font_list[152], italic = False, bold = False,\n",
      "                 file_name = None):\n",
      "        self.text = text * reps\n",
      "        self.size_y = size_y\n",
      "        self.x_pad = self.y_pad = x_pad\n",
      "        self.font_family = font_family\n",
      "        self.file_name = file_name\n",
      "\n",
      "        if italic == True:\n",
      "            self.font_type=cairo.FONT_SLANT_ITALIC\n",
      "        else:\n",
      "            self.font_type=cairo.FONT_SLANT_NORMAL\n",
      "        \n",
      "        if bold == True:\n",
      "            self.font_weight=cairo.FONT_WEIGHT_BOLD\n",
      "        else:\n",
      "            self.font_weight=cairo.FONT_WEIGHT_NORMAL\n",
      "        \n",
      "        if size_x != None:\n",
      "            self.size_x = size_x\n",
      "            \n",
      "        if file_name == None:\n",
      "            if italic==True:\n",
      "                file_name = 'images/' + text + '_it_' + str(font_list.index(font_family)) + '.png';\n",
      "            else:\n",
      "                file_name = 'images/' + text + '_no_' + str(font_list.index(font_family)) + '.png';\n",
      "        \n",
      "        self.file_name = file_name\n",
      "            \n",
      "def export_text_png(arg = TextDescription()):    \n",
      "    # Temp drawing to determine the apt x-size for the surface. Couldn't think of a better way!\n",
      "    # The baseline depends on font properties.. But will be consistent for all chars in a font.\n",
      "    surface_temp = cairo.ImageSurface(cairo.FORMAT_ARGB32, 1, 1)\n",
      "    cr = cairo.Context(surface_temp)\n",
      "    cr.set_font_size(arg.size_y - arg.y_pad)\n",
      "    cr.select_font_face(arg.font_family, arg.font_type, arg.font_weight)\n",
      "    x_bearing, y_bearing, width, height = cr.text_extents('THE QUICK BROWN FOX JUMPED OVER A YA HIGH FENCE the quick brown fox jumped over a ya high fence')[:4]\n",
      "    baseline = 0.5*arg.size_y - height/2 - y_bearing\n",
      "    \n",
      "    if not hasattr(arg, 'size_x'):\n",
      "        x_bearing, y_bearing, width, height = cr.text_extents(arg.text)[:4]\n",
      "        arg.size_x = int(ceil(width)) + arg.x_pad\n",
      "\n",
      "    surface = cairo.ImageSurface(cairo.FORMAT_ARGB32, arg.size_x, arg.size_y)\n",
      "    cr = cairo.Context(surface)\n",
      "\n",
      "    cr.set_source_rgb(1, 1, 1)\n",
      "    cr.paint_with_alpha(1)\n",
      "\n",
      "    cr.set_source_rgb(0, 0.0, 0.0)\n",
      "    cr.select_font_face(arg.font_family, arg.font_type, arg.font_weight)\n",
      "    cr.set_font_size(arg.size_y - arg.y_pad)\n",
      "    \n",
      "    x_bearing, y_bearing, width, height = cr.text_extents(arg.text)[:4]\n",
      "    cr.move_to(0.5*arg.size_x - width/2 - x_bearing, baseline)\n",
      "#     print cr.font_extents()\n",
      "#     print cr.text_extents(arg.text)\n",
      "    \n",
      "    cr.show_text(arg.text)\n",
      "    surface.write_to_png(arg.file_name)\n",
      "    \n",
      "def get_matrix(arg=TextDescription()):\n",
      "    export_text_png(arg)\n",
      "    im = io.imread(arg.file_name)[:, :, 1]\n",
      "    return im\n",
      "\n",
      "def display_text(arg):    \n",
      "    im = get_matrix(arg)\n",
      "    py.imshow(im, cmap=py.cm.Greys_r)\n",
      "    py.axis('off')\n",
      "    \n",
      "# Generate A-Z and a-z\n",
      "def plot_char_set(arg=TextDescription()):\n",
      "    for i in xrange(26):\n",
      "        py.subplot(10,6,i+1)\n",
      "        arg.text=chr(i+65)\n",
      "        display_text(arg)\n",
      "    for i in xrange(26):\n",
      "        py.subplot(10,6,31+i)\n",
      "        arg.text=chr(i+97)\n",
      "        display_text(arg)\n",
      "        \n",
      "def plot_all_fonts(text='ab'):\n",
      "    py.subplots(16, 10, figsize=(28,28))\n",
      "    for i, font in enumerate(font_list):\n",
      "        py.subplot(16,10,i+1)\n",
      "        display_text(TextDescription(text=text, font_family=font))"
     ],
     "language": "python",
     "metadata": {},
     "outputs": [],
     "prompt_number": 80
    },
    {
     "cell_type": "markdown",
     "metadata": {},
     "source": [
      "text=\"aa \"\n",
      "rep = 500\n",
      "it = 1\n",
      "font_indices = [25, 50, 140]\n",
      "for f in font_indices:\n",
      "       display_text(TextDescription(text = text,reps=rep, font_family=font_list[f], italic=it))"
     ]
    },
    {
     "cell_type": "markdown",
     "metadata": {},
     "source": [
      "train = randint(0,2, (1000, 1))\n",
      "train == 0"
     ]
    },
    {
     "cell_type": "markdown",
     "metadata": {},
     "source": [
      "train = (randint(0, 2, (1, 2000)))\n",
      "# print train\n",
      "print np.mean(train)\n",
      "text = ''\n",
      "for i in train[0, :]:\n",
      "    if i == 0:\n",
      "        text = text + 'a'\n",
      "    else:\n",
      "        text = text + 'b'\n",
      "print text\n",
      "display_text(TextDescription(text=text, file_name='images/ab_rand.png'))"
     ]
    },
    {
     "cell_type": "markdown",
     "metadata": {},
     "source": [
      "train = (randint(0, 2, (1, 2000)))\n",
      "# print train\n",
      "print np.mean(train)\n",
      "text = ''\n",
      "for i in train[0, :]:\n",
      "    if i == 0:\n",
      "        text = text + 'a'\n",
      "    else:\n",
      "        text = text + 'b'\n",
      "print text\n",
      "display_text(TextDescription(text=text, file_name='images/ab_rand1.png', italic=1))"
     ]
    }
   ],
   "metadata": {}
  }
 ]
}