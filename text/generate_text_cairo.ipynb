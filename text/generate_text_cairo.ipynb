{
 "metadata": {
  "name": "",
  "signature": "sha256:3dbab0f59b56dd30caa4651d8298a9cb0208eb2849ae345bd4897a302764ce57"
 },
 "nbformat": 3,
 "nbformat_minor": 0,
 "worksheets": [
  {
   "cells": [
    {
     "cell_type": "markdown",
     "metadata": {},
     "source": [
      "###TODO\n",
      "- Figure out a way around the temp surface\n",
      "- figure out a way to get matrix directly from surface! .\n",
      "\n",
      "The font sizes vary according to the font style/properties, so as to occupy as much spce as possible for a given y-size of the surface.\""
     ]
    },
    {
     "cell_type": "code",
     "collapsed": false,
     "input": [
      "import cairo\n",
      "import numpy as np\n",
      "from scipy import misc\n",
      "#%pylab inline\n",
      "from skimage import transform as tf\n",
      "from IPython.html.widgets import interact\n",
      "from skimage import io\n",
      "from math import *\n",
      "import matplotlib.pyplot as py\n",
      "import os"
     ],
     "language": "python",
     "metadata": {},
     "outputs": [],
     "prompt_number": 4
    },
    {
     "cell_type": "code",
     "collapsed": false,
     "input": [
      "if os.path.isdir('images') is False:\n",
      "    print 'Created dir \"Images\"'\n",
      "    os.system('mkdir Images')\n",
      "else:\n",
      "    print '\"Images\" already exists'"
     ],
     "language": "python",
     "metadata": {},
     "outputs": [
      {
       "output_type": "stream",
       "stream": "stdout",
       "text": [
        "\"Images\" already exists\n"
       ]
      }
     ],
     "prompt_number": 5
    },
    {
     "cell_type": "code",
     "collapsed": false,
     "input": [
      "# Get the font names in the system\n",
      "# File generated using pangocairo\n",
      "f = open('fonts', 'r')\n",
      "font_list =[]\n",
      "for line in f:\n",
      "    txt = line.strip()\n",
      "    font_list = font_list + [txt]\n",
      "len(font_list)"
     ],
     "language": "python",
     "metadata": {},
     "outputs": [
      {
       "metadata": {},
       "output_type": "pyout",
       "prompt_number": 6,
       "text": [
        "153"
       ]
      }
     ],
     "prompt_number": 6
    },
    {
     "cell_type": "code",
     "collapsed": false,
     "input": [
      "def getRandSeq(t, reps):\n",
      "    l = len(t)\n",
      "    seq = (np.random.randint(0, l, (1, l * reps)))\n",
      "    text = ''.join([t[i] for i in seq[0, :]])\n",
      "    return text"
     ],
     "language": "python",
     "metadata": {},
     "outputs": [],
     "prompt_number": 7
    },
    {
     "cell_type": "markdown",
     "metadata": {},
     "source": [
      "display_text(TextDescription('ab', reps=10, force_new=1))"
     ]
    },
    {
     "cell_type": "code",
     "collapsed": false,
     "input": [
      "# size_x is not used unless explicitly defined in the parameters, and the surface just fits in the x direction.\n",
      "class TextDescription:\n",
      "    def __init__(self, text = 'A', size_x = None, size_y = 12, x_pad = 4, y_pad =4,\n",
      "                 reps = 1, font_family = font_list[152], italic = False, bold = False,\n",
      "                 file_name = None, force_new = True, rand=False, verbose=False):\n",
      "                \n",
      "        if rand==True:\n",
      "            self.text = getRandSeq(text, reps)\n",
      "        else:\n",
      "            self.text = text * reps\n",
      "#         print 'td', len(self.text), len(text)\n",
      "        self.size_y = size_y\n",
      "        self.x_pad = self.y_pad = x_pad\n",
      "        self.font_family = font_family\n",
      "        self.file_name = file_name\n",
      "        self.verbose = verbose\n",
      "\n",
      "        if italic == True:\n",
      "            self.font_type=cairo.FONT_SLANT_ITALIC\n",
      "        else:\n",
      "            self.font_type=cairo.FONT_SLANT_NORMAL\n",
      "        \n",
      "        if bold == True:\n",
      "            self.font_weight=cairo.FONT_WEIGHT_BOLD\n",
      "        else:\n",
      "            self.font_weight=cairo.FONT_WEIGHT_NORMAL\n",
      "        \n",
      "        if size_x is not None:\n",
      "            self.size_x = size_x\n",
      "\n",
      "            \n",
      "        if file_name == None:\n",
      "            itText = ['No', 'It']\n",
      "            rText = ['', 'Rand'] \n",
      "                     \n",
      "            file_name = 'images/' + text + itText[italic] + rText[rand] + \\\n",
      "                        str(font_list.index(font_family)) + '.png';\n",
      "            \n",
      "        self.file_name = file_name\n",
      "        \n",
      "        self.force_new = force_new\n",
      "            \n",
      "def export_text_png(arg = TextDescription()):    \n",
      "    # Temp drawing to determine the apt x-size for the surface. Couldn't think of a better way!\n",
      "    # The baseline depends on font properties.. But will be consistent for all chars in a font.\n",
      "    surface_temp = cairo.ImageSurface(cairo.FORMAT_ARGB32, 1, 1)\n",
      "    cr = cairo.Context(surface_temp)\n",
      "    cr.set_font_size(arg.size_y - arg.y_pad)\n",
      "    cr.select_font_face(arg.font_family, arg.font_type, arg.font_weight)\n",
      "    x_bearing, y_bearing, width, height = cr.text_extents('THE QUICK BROWN FOX JUMPED OVER A YA \\\n",
      "                                          HIGH FENCE the quick brown fox jumped over a ya high fence')[:4]\n",
      "    baseline = 0.5*arg.size_y - height/2 - y_bearing\n",
      "    \n",
      "    if not hasattr(arg, 'size_x'):\n",
      "        x_bearing, y_bearing, width, height = cr.text_extents(arg.text)[:4]\n",
      "        arg.size_x = int(ceil(width)) + arg.x_pad\n",
      "\n",
      "    surface = cairo.ImageSurface(cairo.FORMAT_ARGB32, arg.size_x, arg.size_y)\n",
      "    cr = cairo.Context(surface)\n",
      "\n",
      "    cr.set_source_rgb(1, 1, 1)\n",
      "    cr.paint_with_alpha(1)\n",
      "\n",
      "    cr.set_source_rgb(0, 0.0, 0.0)\n",
      "    cr.select_font_face(arg.font_family, arg.font_type, arg.font_weight)\n",
      "    cr.set_font_size(arg.size_y - arg.y_pad)\n",
      "    \n",
      "    x_bearing, y_bearing, width, height = cr.text_extents(arg.text)[:4]\n",
      "    cr.move_to(0.5*arg.size_x - width/2 - x_bearing, baseline)\n",
      "#     print cr.font_extents()\n",
      "#     print cr.text_extents(arg.text)\n",
      "    \n",
      "    cr.show_text(arg.text)\n",
      "    surface.write_to_png(arg.file_name)\n",
      "    \n",
      "def get_matrix(arg=TextDescription()):\n",
      "    if arg.force_new == True or os.path.isfile(arg.file_name) == False:\n",
      "            print \"Generating new image: \" + arg.file_name\n",
      "            export_text_png(arg)\n",
      "#     else:\n",
      "#         print \"Using existing image: \" + arg.file_name\n",
      "    \n",
      "    im = io.imread(arg.file_name)[:, :, 1]\n",
      "    return im\n",
      "\n",
      "def display_text(arg):    \n",
      "    im = get_matrix(arg)\n",
      "    py.imshow(im, cmap=py.cm.Greys_r)\n",
      "    py.axis('off')\n",
      "    return im\n",
      "    \n",
      "# Generate A-Z and a-z\n",
      "def plot_char_set(arg=TextDescription()):\n",
      "    for i in xrange(26):\n",
      "        py.subplot(10,6,i+1)\n",
      "        arg.text=chr(i+65)\n",
      "        display_text(arg)\n",
      "    for i in xrange(26):\n",
      "        py.subplot(10,6,31+i)\n",
      "        arg.text=chr(i+97)\n",
      "        display_text(arg)\n",
      "        \n",
      "def plot_all_fonts(text='ab', rand=False):\n",
      "    py.subplots(16, 10, figsize=(28,28))\n",
      "    for i, font in enumerate(font_list):\n",
      "        py.subplot(16,10,i+1)\n",
      "        display_text(TextDescription(text=text, font_family=font, force_new=False))"
     ],
     "language": "python",
     "metadata": {},
     "outputs": [],
     "prompt_number": 8
    },
    {
     "cell_type": "markdown",
     "metadata": {},
     "source": [
      "if __name__ == \"__main__\":\n",
      "    print \"hello\"\n",
      "#     %pylab inline\n",
      "\n",
      "plot_all_fonts()"
     ]
    },
    {
     "cell_type": "markdown",
     "metadata": {},
     "source": [
      "display_text(TextDescription(\"abc\", size_y=30, font_family=font_list[1]))"
     ]
    },
    {
     "cell_type": "markdown",
     "metadata": {},
     "source": [
      "mat = get_matrix(TextDescription(\"abc\", reps=15, size_y=30, font_family=font_list[1]))\n",
      "afine_tf = tf.AffineTransform(shear=0.3)\n",
      "modifiedImage = tf.warp(mat, afine_tf) * 255      # Apply affine transform to image\n",
      "io.imshow(modifiedImage, cmap=cm.Greys_r)"
     ]
    }
   ],
   "metadata": {}
  }
 ]
}