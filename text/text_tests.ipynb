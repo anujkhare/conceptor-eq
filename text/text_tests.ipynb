{
 "metadata": {
  "name": "",
  "signature": "sha256:f69b6ba79aabc9b75aad53b6c98f260ae672e8cd9c4b1b23e86c8edab7f5aacf"
 },
 "nbformat": 3,
 "nbformat_minor": 0,
 "worksheets": [
  {
   "cells": [
    {
     "cell_type": "markdown",
     "metadata": {},
     "source": [
      "## TODO\n",
      "- thresholding inside the network? (bad idea prob)\n",
      "- bundle the test image code\n",
      "- image results don't match up with matlab code\n",
      "- feedback"
     ]
    },
    {
     "cell_type": "markdown",
     "metadata": {},
     "source": [
      "### Tests\n",
      "\n",
      "I'll do the initial tests on text here"
     ]
    },
    {
     "cell_type": "code",
     "collapsed": false,
     "input": [
      "%reset"
     ],
     "language": "python",
     "metadata": {},
     "outputs": [
      {
       "name": "stdout",
       "output_type": "stream",
       "stream": "stdout",
       "text": [
        "Once deleted, variables cannot be recovered. Proceed (y/[n])? y\n"
       ]
      }
     ],
     "prompt_number": 333
    },
    {
     "cell_type": "code",
     "collapsed": false,
     "input": [
      "%load_ext autoreload\n",
      "%autoreload 2"
     ],
     "language": "python",
     "metadata": {},
     "outputs": [
      {
       "output_type": "stream",
       "stream": "stdout",
       "text": [
        "The autoreload extension is already loaded. To reload it, use:\n",
        "  %reload_ext autoreload\n"
       ]
      }
     ],
     "prompt_number": 334
    },
    {
     "cell_type": "code",
     "collapsed": false,
     "input": [
      "from skimage import io\n",
      "from skimage import transform as tf\n",
      "%pylab inline"
     ],
     "language": "python",
     "metadata": {},
     "outputs": [
      {
       "output_type": "stream",
       "stream": "stdout",
       "text": [
        "Populating the interactive namespace from numpy and matplotlib\n"
       ]
      },
      {
       "output_type": "stream",
       "stream": "stderr",
       "text": [
        "WARNING: pylab import has clobbered these variables: ['tanh', 'cosh', 'sinh', 'trunc', 'f', 'tan', 'gamma', 'degrees', 'radians', 'sin', 'fmod', 'expm1', 'ldexp', 'exp', 'frexp', 'ceil', 'copysign', 'isnan', 'cos', 'fabs', 'sqrt', 'floor', 'hypot', 'log', 'log10', 'e', 'pi', 'log1p', 'modf', 'isinf']\n",
        "`%matplotlib` prevents importing * from pylab and numpy\n"
       ]
      }
     ],
     "prompt_number": 347
    },
    {
     "cell_type": "code",
     "collapsed": false,
     "input": [
      "from generate_text_cairo import *\n",
      "TD = TextDescription "
     ],
     "language": "python",
     "metadata": {},
     "outputs": [],
     "prompt_number": 348
    },
    {
     "cell_type": "code",
     "collapsed": false,
     "input": [
      "from conceptor_equalization import *"
     ],
     "language": "python",
     "metadata": {},
     "outputs": [],
     "prompt_number": 349
    },
    {
     "cell_type": "code",
     "collapsed": false,
     "input": [
      "from conceptor_eq_mat import *"
     ],
     "language": "python",
     "metadata": {},
     "outputs": [],
     "prompt_number": 350
    },
    {
     "cell_type": "code",
     "collapsed": false,
     "input": [
      "# mat = io.loadmat('vars')\n",
      "# exp_mat = ExpParam(NNets=5, signalPlotLength=100, noPlots=0, delta=0)\n",
      "\n",
      "# testPattProto_mat = mat['testPattProto']\n",
      "# testPatt_mat = mat['testPatt']\n",
      "# trainPatt_mat = mat['trainPatt']\n",
      "\n",
      "# res_mat = Reservoir(InSize=1)\n",
      "# res_mat.initialize_system()\n",
      "# res_mat.Win = mat['Win']\n",
      "# res_mat.Wfb = mat['Wfb']\n",
      "# res_mat.G = mat['G']\n",
      "# res_mat.F = mat['F']\n",
      "# res_mat.GF = mat['GF']\n",
      "# res_mat.bias = mat['bias']\n",
      "\n",
      "# res_mat.r = np.zeros((res_mat.N, 1), dtype=float)\n",
      "# res_mat.z = np.zeros((res_mat.M, 1), dtype=float)\n",
      "# res_mat.InSize = 1\n",
      "\n",
      "# # exp_mat.apertures = 1000000000\n",
      "# exp_mat.mismatchExp = 0\n",
      "\n",
      "# Rref_mat, C_mat, Wout_mat = train_eq(trainPatt_mat, res=res_mat, param = exp_mat)\n",
      "# test_eq(Rref_mat, C_mat, Wout_mat, testPattProto_mat, testPatt_mat, exp_mat, res_mat);"
     ],
     "language": "python",
     "metadata": {},
     "outputs": [],
     "prompt_number": 57
    },
    {
     "cell_type": "code",
     "collapsed": false,
     "input": [
      "from math import *"
     ],
     "language": "python",
     "metadata": {},
     "outputs": [],
     "prompt_number": 351
    },
    {
     "cell_type": "code",
     "collapsed": false,
     "input": [
      "trainPatt, testPatt, testPattProto = generate_data(dataType=1)\n",
      "Rref, C, Wout = train_eq(trainPatt=trainPatt)\n",
      "param=ExpParam(signalPlotLength=200, delta=0, noPlots=True)\n",
      "test_eq(Rref, C, Wout, testPattProto, testPatt, param=param);"
     ],
     "language": "python",
     "metadata": {},
     "outputs": [
      {
       "output_type": "stream",
       "stream": "stdout",
       "text": [
        "Generating new reservoir\n",
        "Learning Conceptor...\n",
        "Learning Rref, Wout...\n",
        "Training NRMSE: 0.033479"
       ]
      },
      {
       "output_type": "stream",
       "stream": "stdout",
       "text": [
        "\n",
        "Washout...\n",
        "Initialize Ezsqr...\n",
        "Adapting MismatchRatio..."
       ]
      },
      {
       "output_type": "stream",
       "stream": "stdout",
       "text": [
        "\n",
        "Testing..."
       ]
      },
      {
       "output_type": "stream",
       "stream": "stdout",
       "text": [
        "\n",
        "Calculating Errors..."
       ]
      },
      {
       "output_type": "stream",
       "stream": "stdout",
       "text": [
        "\n",
        "--------------------\n",
        "raw NRMSE = 2.17\n",
        "meanabs Wout = 0.0107\n",
        "test  NRMSEs = 1.3085504609, 0.948874618561, 0.86450853771, 0.78998917413, 0.754756839311\n",
        "energyErrs = 6.72329704232, 1.0328383013, 0.236624121758, 0.122868856438, 0.0899393703489\n"
       ]
      }
     ],
     "prompt_number": 352
    },
    {
     "cell_type": "code",
     "collapsed": true,
     "input": [
      "trainPatt, testPatt, testPattProto = generate_data(dataType=1)\n",
      "Rref, C, Wout = train_eq_mat(trainPatt=trainPatt)\n",
      "param=ExpParam(signalPlotLength=200, delta=0, noPlots=True, windowSize=1)\n",
      "test_eq_mat(Rref, C, Wout, testPattProto, testPatt, param=param);"
     ],
     "language": "python",
     "metadata": {},
     "outputs": [
      {
       "output_type": "stream",
       "stream": "stdout",
       "text": [
        "Generating new reservoir\n",
        "Learning Conceptor..."
       ]
      },
      {
       "output_type": "stream",
       "stream": "stdout",
       "text": [
        "\n",
        "Learning Rref, Wout...\n",
        "Training NRMSE: 0.032562"
       ]
      },
      {
       "output_type": "stream",
       "stream": "stdout",
       "text": [
        "\n",
        "Washout...\n",
        "Initialize Ezsqr..."
       ]
      },
      {
       "output_type": "stream",
       "stream": "stdout",
       "text": [
        "\n",
        "Adapting MismatchRatio..."
       ]
      },
      {
       "output_type": "stream",
       "stream": "stdout",
       "text": [
        "\n",
        "Testing..."
       ]
      },
      {
       "output_type": "stream",
       "stream": "stdout",
       "text": [
        "\n",
        "Calculating Errors..."
       ]
      },
      {
       "output_type": "stream",
       "stream": "stdout",
       "text": [
        "\n",
        "--------------------\n",
        "raw NRMSE = 2.17\n",
        "meanabs Wout = 0.0104\n",
        "test  NRMSEs = 1.28519728132, 0.964685502362, 0.821508577325, 0.719578743867, 0.657733917481\n",
        "energyErrs = 3.19593375096, 0.403174904789, 0.0930136812391, 0.0582504927165, 0.0165557043807\n"
       ]
      }
     ],
     "prompt_number": 353
    },
    {
     "cell_type": "code",
     "collapsed": false,
     "input": [
      "size_y = 12; text = 'bc'; reps=1400; prob = 1;\n",
      "\n",
      "## Images\n",
      "trainImage = get_matrix(TD(text, rand=1, reps=reps, prob=prob, font_family=font_list[152], italic=0, size_y=size_y, force_new=1))\n",
      "imshow(trainImage[:, 1:100], cmap=cm.Greys_r)\n",
      "\n",
      "testText = getMC(text, reps, prob=prob)\n",
      "# testImage = get_matrix(TD(testText, rand=0, italic=0, font_family = font_list[146],\n",
      "#                           size_y=size_y, file_name='images/'+text+'DiRand.png', force_new=1))\n",
      "testImage = get_matrix(TD(testText, rand=0, italic=1, size_y=size_y, font_family=font_list[152],\n",
      "                          file_name='images/'+text+'ItRand.png', force_new=1))\n",
      "testImageProto = get_matrix(TD(testText, rand=0, italic=0, size_y=size_y, font_family=font_list[152],\n",
      "                               file_name='images/'+text+'NoRand.png', force_new=1))"
     ],
     "language": "python",
     "metadata": {},
     "outputs": [
      {
       "output_type": "stream",
       "stream": "stdout",
       "text": [
        "Generating new image: images/bcNoRand152.png\n",
        "Generating new image: images/bcItRand.png"
       ]
      },
      {
       "output_type": "stream",
       "stream": "stdout",
       "text": [
        "\n",
        "Generating new image: images/bcNoRand.png\n"
       ]
      },
      {
       "metadata": {},
       "output_type": "display_data",
       "png": "[encoded data removed]",
       "text": [
        "<matplotlib.figure.Figure at 0x7fafc95e2dd0>"
       ]
      }
     ],
     "prompt_number": 354
    },
    {
     "cell_type": "code",
     "collapsed": false,
     "input": [
      "param_im_mat = ExpParam(noPlots=1, signalPlotLength=200, NNets=3, delta=0, washoutLength=400, learnLength=1000,\n",
      "                    COadaptLength=2000, COinitLength=1000, TychWouts=0.1)\n",
      "res_im_mat = ReservoirMat(InSize=size_y, N=250, SR=1, WinScaling=0.5, BiasScaling=0.5)\n",
      "\n",
      "\n",
      "Rref_im, C_im, Wout_im = train_eq_mat(trainPatt = trainImage, res=res_im_mat, param=param_im_mat)\n",
      "y_im, p_im, u_im = test_eq_mat(Rref_im, C_im, Wout_im, testImageProto, testImage, param_im_mat, res_im_mat)[0:3];\n",
      "# y_im, p_im, u_im = test_eq(Rref_im, C_im, Wout_im, testImage, modifiedImage, param_im, res_im)[0:3];\n",
      "\n",
      "shift = param_im.washoutLength + param_im.COinitLength + param_im.COadaptLength;\n",
      "subplot(4, 1, 1); io.imshow(p_im[:, :param_im.signalPlotLength], cmap=cm.Greys_r); title('Proto')\n",
      "subplot(4, 1, 2); io.imshow(y_im[:, :param_im.signalPlotLength], cmap=cm.Greys_r); title('Output')\n",
      "subplot(4, 1, 3); io.imshow(u_im[:, :param_im.signalPlotLength], cmap=cm.Greys_r); title('Test')\n",
      "subplot(4, 1, 4); io.imshow(trainImage[:, shift: shift+param_im.signalPlotLength], cmap=cm.Greys_r);\n",
      "title('Train')"
     ],
     "language": "python",
     "metadata": {},
     "outputs": [
      {
       "output_type": "stream",
       "stream": "stdout",
       "text": [
        "Learning Conceptor...\n",
        "Learning Rref, Wout..."
       ]
      },
      {
       "output_type": "stream",
       "stream": "stdout",
       "text": [
        "\n",
        "Training NRMSE: 0.723062"
       ]
      },
      {
       "output_type": "stream",
       "stream": "stdout",
       "text": [
        "\n",
        "Washout...\n",
        "Initialize Ezsqr..."
       ]
      },
      {
       "output_type": "stream",
       "stream": "stdout",
       "text": [
        "\n",
        "Adapting MismatchRatio..."
       ]
      },
      {
       "output_type": "stream",
       "stream": "stdout",
       "text": [
        "\n",
        "Testing..."
       ]
      },
      {
       "output_type": "stream",
       "stream": "stdout",
       "text": [
        "\n",
        "Calculating Errors..."
       ]
      },
      {
       "output_type": "stream",
       "stream": "stdout",
       "text": [
        "\n",
        "--------------------\n",
        "raw NRMSE = nan\n",
        "meanabs Wout = 1.13\n",
        "test  NRMSEs = 1.67689800808, 2.37911687442, 2.08162496497\n",
        "energyErrs = 0.000321218326804, 0.000204975325888, 0.00013277724552\n"
       ]
      },
      {
       "output_type": "stream",
       "stream": "stderr",
       "text": [
        "conceptor_eq_mat.py:200: RuntimeWarning: invalid value encountered in divide\n",
        "  return np.sqrt(np.mean(err ** 2, axis=1) / combinedVar)\n"
       ]
      },
      {
       "ename": "NameError",
       "evalue": "name 'param_im' is not defined",
       "output_type": "pyerr",
       "traceback": [
        "\u001b[1;31m---------------------------------------------------------------------------\u001b[0m\n\u001b[1;31mNameError\u001b[0m                                 Traceback (most recent call last)",
        "\u001b[1;32m<ipython-input-355-a5a9802c2d70>\u001b[0m in \u001b[0;36m<module>\u001b[1;34m()\u001b[0m\n\u001b[0;32m      8\u001b[0m \u001b[1;31m# y_im, p_im, u_im = test_eq(Rref_im, C_im, Wout_im, testImage, modifiedImage, param_im, res_im)[0:3];\u001b[0m\u001b[1;33m\u001b[0m\u001b[1;33m\u001b[0m\u001b[0m\n\u001b[0;32m      9\u001b[0m \u001b[1;33m\u001b[0m\u001b[0m\n\u001b[1;32m---> 10\u001b[1;33m \u001b[0mshift\u001b[0m \u001b[1;33m=\u001b[0m \u001b[0mparam_im\u001b[0m\u001b[1;33m.\u001b[0m\u001b[0mwashoutLength\u001b[0m \u001b[1;33m+\u001b[0m \u001b[0mparam_im\u001b[0m\u001b[1;33m.\u001b[0m\u001b[0mCOinitLength\u001b[0m \u001b[1;33m+\u001b[0m \u001b[0mparam_im\u001b[0m\u001b[1;33m.\u001b[0m\u001b[0mCOadaptLength\u001b[0m\u001b[1;33m;\u001b[0m\u001b[1;33m\u001b[0m\u001b[0m\n\u001b[0m\u001b[0;32m     11\u001b[0m \u001b[0msubplot\u001b[0m\u001b[1;33m(\u001b[0m\u001b[1;36m4\u001b[0m\u001b[1;33m,\u001b[0m \u001b[1;36m1\u001b[0m\u001b[1;33m,\u001b[0m \u001b[1;36m1\u001b[0m\u001b[1;33m)\u001b[0m\u001b[1;33m;\u001b[0m \u001b[0mio\u001b[0m\u001b[1;33m.\u001b[0m\u001b[0mimshow\u001b[0m\u001b[1;33m(\u001b[0m\u001b[0mp_im\u001b[0m\u001b[1;33m[\u001b[0m\u001b[1;33m:\u001b[0m\u001b[1;33m,\u001b[0m \u001b[1;33m:\u001b[0m\u001b[0mparam_im\u001b[0m\u001b[1;33m.\u001b[0m\u001b[0msignalPlotLength\u001b[0m\u001b[1;33m]\u001b[0m\u001b[1;33m,\u001b[0m \u001b[0mcmap\u001b[0m\u001b[1;33m=\u001b[0m\u001b[0mcm\u001b[0m\u001b[1;33m.\u001b[0m\u001b[0mGreys_r\u001b[0m\u001b[1;33m)\u001b[0m\u001b[1;33m;\u001b[0m \u001b[0mtitle\u001b[0m\u001b[1;33m(\u001b[0m\u001b[1;34m'Proto'\u001b[0m\u001b[1;33m)\u001b[0m\u001b[1;33m\u001b[0m\u001b[0m\n\u001b[0;32m     12\u001b[0m \u001b[0msubplot\u001b[0m\u001b[1;33m(\u001b[0m\u001b[1;36m4\u001b[0m\u001b[1;33m,\u001b[0m \u001b[1;36m1\u001b[0m\u001b[1;33m,\u001b[0m \u001b[1;36m2\u001b[0m\u001b[1;33m)\u001b[0m\u001b[1;33m;\u001b[0m \u001b[0mio\u001b[0m\u001b[1;33m.\u001b[0m\u001b[0mimshow\u001b[0m\u001b[1;33m(\u001b[0m\u001b[0my_im\u001b[0m\u001b[1;33m[\u001b[0m\u001b[1;33m:\u001b[0m\u001b[1;33m,\u001b[0m \u001b[1;33m:\u001b[0m\u001b[0mparam_im\u001b[0m\u001b[1;33m.\u001b[0m\u001b[0msignalPlotLength\u001b[0m\u001b[1;33m]\u001b[0m\u001b[1;33m,\u001b[0m \u001b[0mcmap\u001b[0m\u001b[1;33m=\u001b[0m\u001b[0mcm\u001b[0m\u001b[1;33m.\u001b[0m\u001b[0mGreys_r\u001b[0m\u001b[1;33m)\u001b[0m\u001b[1;33m;\u001b[0m \u001b[0mtitle\u001b[0m\u001b[1;33m(\u001b[0m\u001b[1;34m'Output'\u001b[0m\u001b[1;33m)\u001b[0m\u001b[1;33m\u001b[0m\u001b[0m\n",
        "\u001b[1;31mNameError\u001b[0m: name 'param_im' is not defined"
       ]
      }
     ],
     "prompt_number": 355
    },
    {
     "cell_type": "code",
     "collapsed": false,
     "input": [
      "param_im = ExpParam(noPlots=1, signalPlotLength=200, NNets=2, delta=0, washoutLength=400, learnLength=1000,\n",
      "                    COadaptLength=2000, COinitLength=1000, TychWouts=0.1)\n",
      "res_im = Reservoir(InSize=size_y, N=50, SR=1, WinScaling=0.5, BiasScaling=0.5)\n",
      "\n",
      "Rref_im, C_im, Wout_im = train_eq(trainPatt = trainImage, res=res_im, param=param_im)\n",
      "y_im, p_im, u_im = test_eq(Rref_im, C_im, Wout_im, testImageProto, testImage, param_im, res_im)[0:3];\n",
      "# y_im, p_im, u_im = test_eq(Rref_im, C_im, Wout_im, testImage, modifiedImage, param_im, res_im)[0:3];\n",
      "\n",
      "shift = param_im.washoutLength + param_im.COinitLength + param_im.COadaptLength;\n",
      "subplot(4, 1, 1); io.imshow(p_im[:, :param_im.signalPlotLength], cmap=cm.Greys_r); title('Proto')\n",
      "subplot(4, 1, 2); io.imshow(y_im[:, :param_im.signalPlotLength], cmap=cm.Greys_r); title('Output')\n",
      "subplot(4, 1, 3); io.imshow(u_im[:, :param_im.signalPlotLength], cmap=cm.Greys_r); title('Test')\n",
      "subplot(4, 1, 4); io.imshow(trainImage[:, shift: shift+param_im.signalPlotLength], cmap=cm.Greys_r);\n",
      "title('Train')"
     ],
     "language": "python",
     "metadata": {},
     "outputs": [
      {
       "output_type": "stream",
       "stream": "stdout",
       "text": [
        "Learning Conceptor...\n",
        "Learning Rref, Wout...\n",
        "Training NRMSE: 0.985467"
       ]
      },
      {
       "output_type": "stream",
       "stream": "stdout",
       "text": [
        "\n",
        "Washout...\n",
        "Initialize Ezsqr...\n",
        "Adapting MismatchRatio..."
       ]
      },
      {
       "output_type": "stream",
       "stream": "stdout",
       "text": [
        "\n",
        "Testing..."
       ]
      },
      {
       "output_type": "stream",
       "stream": "stdout",
       "text": [
        "\n",
        "Calculating Errors..."
       ]
      },
      {
       "output_type": "stream",
       "stream": "stdout",
       "text": [
        "\n",
        "--------------------\n",
        "raw NRMSE = nan\n",
        "meanabs Wout = 1.69\n",
        "test  NRMSEs = 1.4136403311, 1.48687873131\n",
        "energyErrs = 0.00957046105378, 0.0158442409513\n"
       ]
      },
      {
       "metadata": {},
       "output_type": "pyout",
       "prompt_number": 328,
       "text": [
        "<matplotlib.text.Text at 0x7fafc929cd10>"
       ]
      },
      {
       "metadata": {},
       "output_type": "display_data",
       "png": "[encoded data removed]",
       "text": [
        "<matplotlib.figure.Figure at 0x7fafc95ce590>"
       ]
      }
     ],
     "prompt_number": 328
    },
    {
     "cell_type": "markdown",
     "metadata": {},
     "source": [
      "### using rfc, the output was as follows:\n",
      "- meanabs Wout = 1.47\n",
      "- test  NRMSEs = 1.47714551344, 2.3798529696, 2.90798794955\n",
      "- energyErrs = 0.0206287031692, 0.0114282848889, 0.0142103772382\n",
      "\n",
      "### using matrix,\n",
      "- meanabs Wout = 1.44\n",
      "- test  NRMSEs = 1.70346378604, 2.3919606912, 2.33698647086\n",
      "- energyErrs = 0.000561479768643, 0.000190579045444, 0.000290005330996\n",
      "\n",
      "## By imposing MC distribution with switching prob\n",
      "- Training NRMSE: 0.984242\n",
      "\n",
      "### 0.5 (as before):\n",
      "- meanabs Wout = 1.69\n",
      "- test  NRMSEs = 1.41474066446, 1.4496651504, 1.56696324803\n",
      "- energyErrs = 0.0120069547554, 0.0343069686163, 0.0226487606975\n",
      "\n",
      "### 0.7:\n",
      "- meanabs Wout = 1.69\n",
      "- test  NRMSEs = 1.41803488005, 1.42653904864, 1.41369975742\n",
      "- energyErrs = 0.00835859211198, 0.0128014215231, 0.0143401872031\n",
      "\n",
      "### 0.9:\n",
      "meanabs Wout = 1.69\n",
      "test  NRMSEs = 1.41396407858, 1.47953375242, 1.44840201402\n",
      "energyErrs = 0.00947644848132, 0.0158975072272, 0.0170710003971\n",
      "\n",
      "### Even with alternating b's and c's it is just as bad, making the window very important.. I wonder how I missed this earlier..."
     ]
    },
    {
     "cell_type": "code",
     "collapsed": false,
     "input": [
      "text=\"bc\"\n",
      "testText = getRandSeq(text, reps)\n",
      "testImage = get_matrix(TD(testText, rand=0, italic=1, size_y=size_y, file_name='images/'+text+'ItRand.png', force_new=0))\n",
      "testImageProto = get_matrix(TD(testText, rand=0, italic=0, size_y=size_y, file_name='images/'+text+'NoRand.png', force_new=0))\n",
      "\n",
      "y_im, p_im, u_im = test_eq(Rref_im, C_im, Wout_im, testImageProto, testImage, param_im, res_im)[0:3];\n",
      "# y_im, p_im, u_im = test_eq(Rref_im, C_im, Wout_im, testImage, modifiedImage, param_im, res_im)[0:3];\n",
      "\n",
      "shift = param_im.washoutLength + param_im.COinitLength + param_im.COadaptLength;\n",
      "\n",
      "subplot(4, 1, 1); io.imshow(p_im[:, :param_im.signalPlotLength], cmap=cm.Greys_r); title('Proto')\n",
      "subplot(4, 1, 2); io.imshow(y_im[:, :param_im.signalPlotLength], cmap=cm.Greys_r); title('Output')\n",
      "subplot(4, 1, 3); io.imshow(u_im[:, :param_im.signalPlotLength], cmap=cm.Greys_r); title('Test')\n",
      "subplot(4, 1, 4); io.imshow(trainImage[:, shift: shift+param_im.signalPlotLength], cmap=cm.Greys_r); title('Train')"
     ],
     "language": "python",
     "metadata": {},
     "outputs": [
      {
       "output_type": "stream",
       "stream": "stdout",
       "text": [
        "Washout...\n",
        "Initialize Ezsqr...\n",
        "Adapting MismatchRatio..."
       ]
      },
      {
       "output_type": "stream",
       "stream": "stdout",
       "text": [
        "\n",
        "Testing..."
       ]
      },
      {
       "output_type": "stream",
       "stream": "stdout",
       "text": [
        "\n",
        "Calculating Errors..."
       ]
      },
      {
       "output_type": "stream",
       "stream": "stdout",
       "text": [
        "\n",
        "--------------------\n",
        "raw NRMSE = nan\n",
        "meanabs Wout = 1.44\n",
        "test  NRMSEs = 1.70346378604, 2.3919606912, 2.33698647086\n",
        "energyErrs = 0.000561479768643, 0.000190579045444, 0.000290005330996\n"
       ]
      },
      {
       "metadata": {},
       "output_type": "pyout",
       "prompt_number": 65,
       "text": [
        "<matplotlib.text.Text at 0x7fafcbf385d0>"
       ]
      },
      {
       "metadata": {},
       "output_type": "display_data",
       "png": "[encoded data removed]",
       "text": [
        "<matplotlib.figure.Figure at 0x7fafcc7dfcd0>"
       ]
      }
     ],
     "prompt_number": 65
    },
    {
     "cell_type": "code",
     "collapsed": false,
     "input": [
      "T = 185\n",
      "p1 = p_im.copy(); p1[p1<T] = 0; p1[p1!=0] = 255\n",
      "y1 = y_im.copy(); y1[y1<T] = 0; y1[y1!=0] = 255\n",
      "u1 = u_im.copy(); u1[u1<T] = 0; u1[u1!=0] = 255\n",
      "\n",
      "print np.mean(rmse(y1, p1)), np.mean(rmse(u1, y1)), np.mean(rmse(u1, p1))\n",
      "subplot(3, 1, 1); io.imshow(p1[:, :param_im.signalPlotLength], cmap=cm.Greys_r); title('Proto')\n",
      "subplot(3, 1, 2); io.imshow(y1[:, :param_im.signalPlotLength], cmap=cm.Greys_r); title('Output')\n",
      "subplot(3, 1, 3); io.imshow(u1[:, :param_im.signalPlotLength], cmap=cm.Greys_r); title('Test')"
     ],
     "language": "python",
     "metadata": {},
     "outputs": [
      {
       "output_type": "stream",
       "stream": "stdout",
       "text": [
        "9.47950090986 41.915803752 46.8156533715\n"
       ]
      },
      {
       "metadata": {},
       "output_type": "pyout",
       "prompt_number": 28,
       "text": [
        "<matplotlib.text.Text at 0x7fafcc3afa10>"
       ]
      },
      {
       "metadata": {},
       "output_type": "display_data",
       "png": "[encoded data removed]",
       "text": [
        "<matplotlib.figure.Figure at 0x7fafcc387e10>"
       ]
      }
     ],
     "prompt_number": 28
    },
    {
     "cell_type": "code",
     "collapsed": false,
     "input": [
      "bc2 = display_text(TD(\"bc\", rand=1, reps=10, italic=0, size_y=28, force_new=False))\n",
      "print bc2"
     ],
     "language": "python",
     "metadata": {},
     "outputs": [
      {
       "output_type": "stream",
       "stream": "stdout",
       "text": [
        "[[255 255 255 ..., 255 255 255]\n",
        " [255 255 255 ..., 255 255 255]\n",
        " [255 255 255 ..., 255 255 255]\n",
        " ..., \n",
        " [255 255 255 ..., 255 255 255]\n",
        " [255 255 255 ..., 255 255 255]\n",
        " [255 255 255 ..., 255 255 255]]\n"
       ]
      },
      {
       "metadata": {},
       "output_type": "display_data",
       "png": "[encoded data removed]",
       "text": [
        "<matplotlib.figure.Figure at 0x7fafcd4e9b90>"
       ]
      }
     ],
     "prompt_number": 29
    }
   ],
   "metadata": {}
  }
 ]
}