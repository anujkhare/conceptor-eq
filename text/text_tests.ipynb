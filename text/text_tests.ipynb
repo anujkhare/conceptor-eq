{
 "metadata": {
  "name": "",
  "signature": "sha256:7e2b9f7eb88ef88b69cd67fbfe50d527dba2605c8f63cbb5ff551aa40bbdc5de"
 },
 "nbformat": 3,
 "nbformat_minor": 0,
 "worksheets": [
  {
   "cells": [
    {
     "cell_type": "markdown",
     "metadata": {},
     "source": [
      "## TODO\n",
      "- thresholding inside the network? (bad idea prob)\n",
      "- bundle the test image code\n",
      "- image results don't match up with matlab code\n",
      "- feedback"
     ]
    },
    {
     "cell_type": "markdown",
     "metadata": {},
     "source": [
      "### Tests\n",
      "\n",
      "I'll do the initial tests on text here"
     ]
    },
    {
     "cell_type": "code",
     "collapsed": false,
     "input": [
      "%reset"
     ],
     "language": "python",
     "metadata": {},
     "outputs": [
      {
       "name": "stdout",
       "output_type": "stream",
       "stream": "stdout",
       "text": [
        "Once deleted, variables cannot be recovered. Proceed (y/[n])? y\n"
       ]
      }
     ],
     "prompt_number": 1
    },
    {
     "cell_type": "code",
     "collapsed": false,
     "input": [
      "%load_ext autoreload\n",
      "%autoreload 2"
     ],
     "language": "python",
     "metadata": {},
     "outputs": [],
     "prompt_number": 2
    },
    {
     "cell_type": "code",
     "collapsed": false,
     "input": [
      "from skimage import io\n",
      "from skimage import transform as tf\n",
      "%pylab inline"
     ],
     "language": "python",
     "metadata": {},
     "outputs": [
      {
       "output_type": "stream",
       "stream": "stdout",
       "text": [
        "Populating the interactive namespace from numpy and matplotlib\n"
       ]
      }
     ],
     "prompt_number": 18
    },
    {
     "cell_type": "code",
     "collapsed": false,
     "input": [
      "from generate_text_cairo import *\n",
      "TD = TextDescription "
     ],
     "language": "python",
     "metadata": {},
     "outputs": [
      {
       "output_type": "stream",
       "stream": "stdout",
       "text": [
        "\"Images\" already exists\n"
       ]
      }
     ],
     "prompt_number": 5
    },
    {
     "cell_type": "code",
     "collapsed": false,
     "input": [
      "from conceptor_eq_mat import *"
     ],
     "language": "python",
     "metadata": {},
     "outputs": [],
     "prompt_number": 9
    },
    {
     "cell_type": "code",
     "collapsed": false,
     "input": [
      "# mat = io.loadmat('vars')\n",
      "# exp_mat = ExpParam(NNets=5, signalPlotLength=100, noPlots=0, delta=0)\n",
      "\n",
      "# testPattProto_mat = mat['testPattProto']\n",
      "# testPatt_mat = mat['testPatt']\n",
      "# trainPatt_mat = mat['trainPatt']\n",
      "\n",
      "# res_mat = Reservoir(InSize=1)\n",
      "# res_mat.initialize_system()\n",
      "# res_mat.Win = mat['Win']\n",
      "# res_mat.Wfb = mat['Wfb']\n",
      "# res_mat.G = mat['G']\n",
      "# res_mat.F = mat['F']\n",
      "# res_mat.GF = mat['GF']\n",
      "# res_mat.bias = mat['bias']\n",
      "\n",
      "# res_mat.r = np.zeros((res_mat.N, 1), dtype=float)\n",
      "# res_mat.z = np.zeros((res_mat.M, 1), dtype=float)\n",
      "# res_mat.InSize = 1\n",
      "\n",
      "# # exp_mat.apertures = 1000000000\n",
      "# exp_mat.mismatchExp = 0\n",
      "\n",
      "# Rref_mat, C_mat, Wout_mat = train_eq(trainPatt_mat, res=res_mat, param = exp_mat)\n",
      "# test_eq(Rref_mat, C_mat, Wout_mat, testPattProto_mat, testPatt_mat, exp_mat, res_mat);"
     ],
     "language": "python",
     "metadata": {},
     "outputs": [],
     "prompt_number": 11
    },
    {
     "cell_type": "code",
     "collapsed": true,
     "input": [
      "trainPatt, testPatt, testPattProto = generate_data(dataType=1)\n",
      "Rref, C, Wout = train_eq(trainPatt=trainPatt)\n",
      "param=ExpParam(signalPlotLength=200, delta=3)\n",
      "test_eq(Rref, C, Wout, testPattProto, testPatt, param=param);"
     ],
     "language": "python",
     "metadata": {},
     "outputs": [
      {
       "output_type": "stream",
       "stream": "stdout",
       "text": [
        "Generating new reservoir\n",
        "Learning Conceptor..."
       ]
      },
      {
       "output_type": "stream",
       "stream": "stdout",
       "text": [
        "\n",
        "Learning Rref, Wout...\n",
        "Training NRMSE: 0.032562"
       ]
      },
      {
       "output_type": "stream",
       "stream": "stdout",
       "text": [
        "\n",
        "Washout...\n",
        "Initialize Ezsqr..."
       ]
      },
      {
       "output_type": "stream",
       "stream": "stdout",
       "text": [
        "\n",
        "Adapting MismatchRatio..."
       ]
      },
      {
       "output_type": "stream",
       "stream": "stdout",
       "text": [
        "\n",
        "Testing..."
       ]
      },
      {
       "output_type": "stream",
       "stream": "stdout",
       "text": [
        "\n",
        "Calculating Errors..."
       ]
      },
      {
       "output_type": "stream",
       "stream": "stdout",
       "text": [
        "\n",
        "--------------------\n",
        "raw NRMSE = 2.17\n",
        "meanabs Wout = 0.0104\n",
        "test  NRMSEs = 1.28034924099, 0.935520620876, 0.775696675721, 0.659223052668, 0.587575917539\n",
        "energyErrs = 3.19593375096, 0.403174904789, 0.0930136812391, 0.0582504927165, 0.0165557043807\n"
       ]
      }
     ],
     "prompt_number": 12
    },
    {
     "cell_type": "code",
     "collapsed": false,
     "input": [
      "modifiedImage = io.imread(\"images/bcNoRand.png\")[:, :, 1]\n",
      "afine_tf = tf.AffineTransform(shear=-0.5)\n",
      "modifiedImage = tf.warp(modifiedImage, afine_tf) * 255      # Apply affine transform to image\n",
      "io.imshow(modifiedImage[:, 100:200], cmap=cm.Greys_r)"
     ],
     "language": "python",
     "metadata": {},
     "outputs": [
      {
       "metadata": {},
       "output_type": "display_data",
       "png": "[encoded data removed]",
       "text": [
        "<matplotlib.figure.Figure at 0x7fcb993bb3d0>"
       ]
      }
     ],
     "prompt_number": 1216
    },
    {
     "cell_type": "code",
     "collapsed": false,
     "input": [
      "size_y = 12; text = 'bc'; reps=700; \n",
      "\n",
      "param_im = ExpParam(noPlots=1, signalPlotLength=200, NNets=3, delta=0, washoutLength=400, learnLength=1000,\n",
      "                    COadaptLength=2000, COinitLength=1000, TychWouts=0.1)\n",
      "res_im = Reservoir(InSize=size_y, N=200, SR=1, WinScaling=0.4, BiasScaling=0.5)"
     ],
     "language": "python",
     "metadata": {},
     "outputs": [],
     "prompt_number": 14
    },
    {
     "cell_type": "code",
     "collapsed": false,
     "input": [
      "trainImage = get_matrix(TD(\"bc\", rand=1, reps=reps, italic=0, size_y=size_y, force_new=1))\n",
      "imshow(trainImage[:, 1:100], cmap=cm.Greys_r)\n",
      "Rref_im, C_im, Wout_im = train_eq(trainPatt = trainImage, res=res_im, param=param_im)"
     ],
     "language": "python",
     "metadata": {},
     "outputs": [
      {
       "output_type": "stream",
       "stream": "stdout",
       "text": [
        "Generating new image: images/bcNoRand152.png\n",
        "Learning Conceptor...\n",
        "Learning Rref, Wout..."
       ]
      },
      {
       "output_type": "stream",
       "stream": "stdout",
       "text": [
        "\n",
        "Training NRMSE: 0.706984"
       ]
      },
      {
       "output_type": "stream",
       "stream": "stdout",
       "text": [
        "\n"
       ]
      },
      {
       "metadata": {},
       "output_type": "display_data",
       "png": "[encoded data removed]",
       "text": [
        "<matplotlib.figure.Figure at 0x7fafcca3f310>"
       ]
      }
     ],
     "prompt_number": 20
    },
    {
     "cell_type": "code",
     "collapsed": false,
     "input": [
      "text=\"bc\"\n",
      "testText = getRandSeq(text, reps)\n",
      "testImage = get_matrix(TD(testText, rand=0, italic=1, size_y=size_y, file_name='images/'+text+'ItRand.png', force_new=0))\n",
      "testImageProto = get_matrix(TD(testText, rand=0, italic=0, size_y=size_y, file_name='images/'+text+'NoRand.png', force_new=0))\n",
      "\n",
      "y_im, p_im, u_im = test_eq(Rref_im, C_im, Wout_im, testImageProto, testImage, param_im, res_im)[0:3];\n",
      "# y_im, p_im, u_im = test_eq(Rref_im, C_im, Wout_im, testImage, modifiedImage, param_im, res_im)[0:3];\n",
      "\n",
      "shift = param_im.washoutLength + param_im.COinitLength + param_im.COadaptLength;\n",
      "\n",
      "subplot(4, 1, 1); io.imshow(p_im[:, :param_im.signalPlotLength], cmap=cm.Greys_r); title('Proto')\n",
      "subplot(4, 1, 2); io.imshow(y_im[:, :param_im.signalPlotLength], cmap=cm.Greys_r); title('Output')\n",
      "subplot(4, 1, 3); io.imshow(u_im[:, :param_im.signalPlotLength], cmap=cm.Greys_r); title('Test')\n",
      "subplot(4, 1, 4); io.imshow(trainImage[:, shift: shift+param_im.signalPlotLength], cmap=cm.Greys_r); title('Train')"
     ],
     "language": "python",
     "metadata": {},
     "outputs": [
      {
       "output_type": "stream",
       "stream": "stdout",
       "text": [
        "Washout...\n",
        "Initialize Ezsqr...\n",
        "Adapting MismatchRatio..."
       ]
      },
      {
       "output_type": "stream",
       "stream": "stdout",
       "text": [
        "\n",
        "Testing..."
       ]
      },
      {
       "output_type": "stream",
       "stream": "stdout",
       "text": [
        "\n",
        "Calculating Errors..."
       ]
      },
      {
       "output_type": "stream",
       "stream": "stdout",
       "text": [
        "\n",
        "--------------------\n",
        "raw NRMSE = nan\n",
        "meanabs Wout = 1.44\n",
        "test  NRMSEs = 1.70591488672, 2.38765917439, 2.32177758891\n",
        "energyErrs = 0.000513962471127, 0.000182433749536, 0.000259269497759\n"
       ]
      },
      {
       "metadata": {},
       "output_type": "pyout",
       "prompt_number": 30,
       "text": [
        "<matplotlib.text.Text at 0x7fafcc030b10>"
       ]
      },
      {
       "metadata": {},
       "output_type": "display_data",
       "png": "[encoded data removed]",
       "text": [
        "<matplotlib.figure.Figure at 0x7fafccbbaf90>"
       ]
      }
     ],
     "prompt_number": 30
    },
    {
     "cell_type": "code",
     "collapsed": false,
     "input": [
      "T = 185\n",
      "p1 = p_im.copy(); p1[p1<T] = 0; p1[p1!=0] = 255\n",
      "y1 = y_im.copy(); y1[y1<T] = 0; y1[y1!=0] = 255\n",
      "u1 = u_im.copy(); u1[u1<T] = 0; u1[u1!=0] = 255\n",
      "\n",
      "print np.mean(rmse(y1, p1)), np.mean(rmse(u1, y1)), np.mean(rmse(u1, p1))\n",
      "subplot(3, 1, 1); io.imshow(p1[:, :param_im.signalPlotLength], cmap=cm.Greys_r); title('Proto')\n",
      "subplot(3, 1, 2); io.imshow(y1[:, :param_im.signalPlotLength], cmap=cm.Greys_r); title('Output')\n",
      "subplot(3, 1, 3); io.imshow(u1[:, :param_im.signalPlotLength], cmap=cm.Greys_r); title('Test')"
     ],
     "language": "python",
     "metadata": {},
     "outputs": [
      {
       "output_type": "stream",
       "stream": "stdout",
       "text": [
        "9.47950090986 41.915803752 46.8156533715\n"
       ]
      },
      {
       "metadata": {},
       "output_type": "pyout",
       "prompt_number": 28,
       "text": [
        "<matplotlib.text.Text at 0x7fafcc3afa10>"
       ]
      },
      {
       "metadata": {},
       "output_type": "display_data",
       "png": "[encoded data removed]",
       "text": [
        "<matplotlib.figure.Figure at 0x7fafcc387e10>"
       ]
      }
     ],
     "prompt_number": 28
    },
    {
     "cell_type": "code",
     "collapsed": false,
     "input": [
      "bc2 = display_text(TD(\"bc\", rand=1, reps=10, italic=0, size_y=28, force_new=False))\n",
      "print bc2"
     ],
     "language": "python",
     "metadata": {},
     "outputs": [
      {
       "output_type": "stream",
       "stream": "stdout",
       "text": [
        "[[255 255 255 ..., 255 255 255]\n",
        " [255 255 255 ..., 255 255 255]\n",
        " [255 255 255 ..., 255 255 255]\n",
        " ..., \n",
        " [255 255 255 ..., 255 255 255]\n",
        " [255 255 255 ..., 255 255 255]\n",
        " [255 255 255 ..., 255 255 255]]\n"
       ]
      },
      {
       "metadata": {},
       "output_type": "display_data",
       "png": "[encoded data removed]",
       "text": [
        "<matplotlib.figure.Figure at 0x7fafcd4e9b90>"
       ]
      }
     ],
     "prompt_number": 29
    }
   ],
   "metadata": {}
  }
 ]
}